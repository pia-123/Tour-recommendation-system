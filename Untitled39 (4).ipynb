{
  "cells": [
    {
      "cell_type": "code",
      "execution_count": 77,
      "metadata": {
        "colab": {
          "base_uri": "https://localhost:8080/",
          "height": 1000
        },
        "id": "SQR8PSCX0oZR",
        "outputId": "fc206447-e12f-4e00-8717-b8c0d746e4fd"
      },
      "outputs": [
        {
          "name": "stdout",
          "output_type": "stream",
          "text": [
            "Requirement already satisfied: scikit-learn in /usr/local/lib/python3.10/dist-packages (1.2.2)\n",
            "Requirement already satisfied: pandas in /usr/local/lib/python3.10/dist-packages (2.0.3)\n",
            "Requirement already satisfied: numpy>=1.17.3 in /usr/local/lib/python3.10/dist-packages (from scikit-learn) (1.25.2)\n",
            "Requirement already satisfied: scipy>=1.3.2 in /usr/local/lib/python3.10/dist-packages (from scikit-learn) (1.11.4)\n",
            "Requirement already satisfied: joblib>=1.1.1 in /usr/local/lib/python3.10/dist-packages (from scikit-learn) (1.4.2)\n",
            "Requirement already satisfied: threadpoolctl>=2.0.0 in /usr/local/lib/python3.10/dist-packages (from scikit-learn) (3.5.0)\n",
            "Requirement already satisfied: python-dateutil>=2.8.2 in /usr/local/lib/python3.10/dist-packages (from pandas) (2.8.2)\n",
            "Requirement already satisfied: pytz>=2020.1 in /usr/local/lib/python3.10/dist-packages (from pandas) (2023.4)\n",
            "Requirement already satisfied: tzdata>=2022.1 in /usr/local/lib/python3.10/dist-packages (from pandas) (2024.1)\n",
            "Requirement already satisfied: six>=1.5 in /usr/local/lib/python3.10/dist-packages (from python-dateutil>=2.8.2->pandas) (1.16.0)\n",
            "\n",
            "Number of missing values per column:\n",
            "City          0\n",
            "Place         0\n",
            "Ratings       0\n",
            "Distance      0\n",
            "Place_desc    0\n",
            "dtype: int64\n",
            "\n",
            "DataFrame after filling missing values:\n",
            "        City                                           Place Ratings  \\\n",
            "0     Manali         1. Capture the Sceneries of Old Manali      3.9   \n",
            "1     Manali   2. Engage in the Adventures of Solang Valley      4.6   \n",
            "2     Manali                            3. Jogini Waterfall      4.6   \n",
            "3     Manali                              4. Hadimba Temple      4.4   \n",
            "4     Manali                                5. Rohtang Pass      4.4   \n",
            "...      ...                                             ...     ...   \n",
            "2984  Poovar                         5. The Fishing Village      3.1   \n",
            "2985  Poovar                                     6. Cruises      3.1   \n",
            "2986  Poovar                               7. Kovalam Beach      3.1   \n",
            "2987  Poovar                                   8. Boat Race      3.1   \n",
            "2988  Poovar                                    9. Ayurveda      3.6   \n",
            "\n",
            "                       Distance  \\\n",
            "0       2 km  from city center    \n",
            "1       8 km  from city center    \n",
            "2       4 km  from city center    \n",
            "3       1 km  from city center    \n",
            "4      16 km  from city center    \n",
            "...                         ...   \n",
            "2984   11 km  from city center    \n",
            "2985    1 km  from city center    \n",
            "2986   12 km  from city center    \n",
            "2987    2 km  from city center    \n",
            "2988    7 km  from city center    \n",
            "\n",
            "                                             Place_desc  \n",
            "0      On the other side of the Manalsu river is a p...  \n",
            "1      Solang Valley is one of the most popular tour...  \n",
            "2      Jogini Waterfall is located about 3 kilometre...  \n",
            "3      Hadimba temple, away from the hustle and bust...  \n",
            "4      Rohtang pass is the stretch which connects Ma...  \n",
            "...                                                 ...  \n",
            "2984   A village lying in the proximity of Poovar is...  \n",
            "2985   Amid the crystal clear ripples of water and s...  \n",
            "2986   A captivating beach with nature's beauty at i...  \n",
            "2987   Adrenaline rushing snake boat races are a spe...  \n",
            "2988   Based on a universal principle of faith that ...  \n",
            "\n",
            "[2989 rows x 5 columns]\n",
            "\n",
            "Number of duplicate rows:\n",
            "0\n",
            "\n",
            "DataFrame after removing duplicate rows:\n",
            "        City                                           Place Ratings  \\\n",
            "0     Manali         1. Capture the Sceneries of Old Manali      3.9   \n",
            "1     Manali   2. Engage in the Adventures of Solang Valley      4.6   \n",
            "2     Manali                            3. Jogini Waterfall      4.6   \n",
            "3     Manali                              4. Hadimba Temple      4.4   \n",
            "4     Manali                                5. Rohtang Pass      4.4   \n",
            "...      ...                                             ...     ...   \n",
            "2984  Poovar                         5. The Fishing Village      3.1   \n",
            "2985  Poovar                                     6. Cruises      3.1   \n",
            "2986  Poovar                               7. Kovalam Beach      3.1   \n",
            "2987  Poovar                                   8. Boat Race      3.1   \n",
            "2988  Poovar                                    9. Ayurveda      3.6   \n",
            "\n",
            "                       Distance  \\\n",
            "0       2 km  from city center    \n",
            "1       8 km  from city center    \n",
            "2       4 km  from city center    \n",
            "3       1 km  from city center    \n",
            "4      16 km  from city center    \n",
            "...                         ...   \n",
            "2984   11 km  from city center    \n",
            "2985    1 km  from city center    \n",
            "2986   12 km  from city center    \n",
            "2987    2 km  from city center    \n",
            "2988    7 km  from city center    \n",
            "\n",
            "                                             Place_desc  \n",
            "0      On the other side of the Manalsu river is a p...  \n",
            "1      Solang Valley is one of the most popular tour...  \n",
            "2      Jogini Waterfall is located about 3 kilometre...  \n",
            "3      Hadimba temple, away from the hustle and bust...  \n",
            "4      Rohtang pass is the stretch which connects Ma...  \n",
            "...                                                 ...  \n",
            "2984   A village lying in the proximity of Poovar is...  \n",
            "2985   Amid the crystal clear ripples of water and s...  \n",
            "2986   A captivating beach with nature's beauty at i...  \n",
            "2987   Adrenaline rushing snake boat races are a spe...  \n",
            "2988   Based on a universal principle of faith that ...  \n",
            "\n",
            "[2989 rows x 5 columns]\n"
          ]
        },
        {
          "name": "stderr",
          "output_type": "stream",
          "text": [
            "<ipython-input-77-324072fb5339>:27: DeprecationWarning: Converting `np.inexact` or `np.floating` to a dtype is deprecated. The current result is `float64` which is not strictly correct.\n",
            "  if data[column].dtype == np.number:\n"
          ]
        },
        {
          "data": {
            "application/vnd.google.colaboratory.intrinsic+json": {
              "summary": "{\n  \"name\": \"# plt\",\n  \"rows\": 5,\n  \"fields\": [\n    {\n      \"column\": \"City\",\n      \"properties\": {\n        \"dtype\": \"category\",\n        \"num_unique_values\": 1,\n        \"samples\": [\n          \"manali\"\n        ],\n        \"semantic_type\": \"\",\n        \"description\": \"\"\n      }\n    },\n    {\n      \"column\": \"Ratings\",\n      \"properties\": {\n        \"dtype\": \"date\",\n        \"min\": 3.9,\n        \"max\": 4.6,\n        \"num_unique_values\": 3,\n        \"samples\": [\n          3.9\n        ],\n        \"semantic_type\": \"\",\n        \"description\": \"\"\n      }\n    },\n    {\n      \"column\": \"Distance\",\n      \"properties\": {\n        \"dtype\": \"string\",\n        \"num_unique_values\": 5,\n        \"samples\": [\n          \" 8 km  from city center \"\n        ],\n        \"semantic_type\": \"\",\n        \"description\": \"\"\n      }\n    },\n    {\n      \"column\": \"combined_features\",\n      \"properties\": {\n        \"dtype\": \"string\",\n        \"num_unique_values\": 5,\n        \"samples\": [\n          \"  engage in the adventures of solang valley   solang valley is one of the most popular tourist destinations in himachal pradesh it is popular for adventure sports during winters solang valley is covered with snow making skiing is a popular sport here there are training institutes and trainers located to supervise skiers and train beginners  \"\n        ],\n        \"semantic_type\": \"\",\n        \"description\": \"\"\n      }\n    }\n  ]\n}",
              "type": "dataframe"
            },
            "text/html": [
              "\n",
              "  <div id=\"df-67ba9173-51b0-41d7-bcc0-d6695163d207\" class=\"colab-df-container\">\n",
              "    <div>\n",
              "<style scoped>\n",
              "    .dataframe tbody tr th:only-of-type {\n",
              "        vertical-align: middle;\n",
              "    }\n",
              "\n",
              "    .dataframe tbody tr th {\n",
              "        vertical-align: top;\n",
              "    }\n",
              "\n",
              "    .dataframe thead th {\n",
              "        text-align: right;\n",
              "    }\n",
              "</style>\n",
              "<table border=\"1\" class=\"dataframe\">\n",
              "  <thead>\n",
              "    <tr style=\"text-align: right;\">\n",
              "      <th></th>\n",
              "      <th>City</th>\n",
              "      <th>Ratings</th>\n",
              "      <th>Distance</th>\n",
              "      <th>combined_features</th>\n",
              "    </tr>\n",
              "  </thead>\n",
              "  <tbody>\n",
              "    <tr>\n",
              "      <th>0</th>\n",
              "      <td>manali</td>\n",
              "      <td>3.9</td>\n",
              "      <td>2 km  from city center</td>\n",
              "      <td>capture the sceneries of old manali   on the...</td>\n",
              "    </tr>\n",
              "    <tr>\n",
              "      <th>1</th>\n",
              "      <td>manali</td>\n",
              "      <td>4.6</td>\n",
              "      <td>8 km  from city center</td>\n",
              "      <td>engage in the adventures of solang valley   ...</td>\n",
              "    </tr>\n",
              "    <tr>\n",
              "      <th>2</th>\n",
              "      <td>manali</td>\n",
              "      <td>4.6</td>\n",
              "      <td>4 km  from city center</td>\n",
              "      <td>jogini waterfall   jogini waterfall is locat...</td>\n",
              "    </tr>\n",
              "    <tr>\n",
              "      <th>3</th>\n",
              "      <td>manali</td>\n",
              "      <td>4.4</td>\n",
              "      <td>1 km  from city center</td>\n",
              "      <td>hadimba temple   hadimba temple away from th...</td>\n",
              "    </tr>\n",
              "    <tr>\n",
              "      <th>4</th>\n",
              "      <td>manali</td>\n",
              "      <td>4.4</td>\n",
              "      <td>16 km  from city center</td>\n",
              "      <td>rohtang pass   rohtang pass is the stretch w...</td>\n",
              "    </tr>\n",
              "  </tbody>\n",
              "</table>\n",
              "</div>\n",
              "    <div class=\"colab-df-buttons\">\n",
              "\n",
              "  <div class=\"colab-df-container\">\n",
              "    <button class=\"colab-df-convert\" onclick=\"convertToInteractive('df-67ba9173-51b0-41d7-bcc0-d6695163d207')\"\n",
              "            title=\"Convert this dataframe to an interactive table.\"\n",
              "            style=\"display:none;\">\n",
              "\n",
              "  <svg xmlns=\"http://www.w3.org/2000/svg\" height=\"24px\" viewBox=\"0 -960 960 960\">\n",
              "    <path d=\"M120-120v-720h720v720H120Zm60-500h600v-160H180v160Zm220 220h160v-160H400v160Zm0 220h160v-160H400v160ZM180-400h160v-160H180v160Zm440 0h160v-160H620v160ZM180-180h160v-160H180v160Zm440 0h160v-160H620v160Z\"/>\n",
              "  </svg>\n",
              "    </button>\n",
              "\n",
              "  <style>\n",
              "    .colab-df-container {\n",
              "      display:flex;\n",
              "      gap: 12px;\n",
              "    }\n",
              "\n",
              "    .colab-df-convert {\n",
              "      background-color: #E8F0FE;\n",
              "      border: none;\n",
              "      border-radius: 50%;\n",
              "      cursor: pointer;\n",
              "      display: none;\n",
              "      fill: #1967D2;\n",
              "      height: 32px;\n",
              "      padding: 0 0 0 0;\n",
              "      width: 32px;\n",
              "    }\n",
              "\n",
              "    .colab-df-convert:hover {\n",
              "      background-color: #E2EBFA;\n",
              "      box-shadow: 0px 1px 2px rgba(60, 64, 67, 0.3), 0px 1px 3px 1px rgba(60, 64, 67, 0.15);\n",
              "      fill: #174EA6;\n",
              "    }\n",
              "\n",
              "    .colab-df-buttons div {\n",
              "      margin-bottom: 4px;\n",
              "    }\n",
              "\n",
              "    [theme=dark] .colab-df-convert {\n",
              "      background-color: #3B4455;\n",
              "      fill: #D2E3FC;\n",
              "    }\n",
              "\n",
              "    [theme=dark] .colab-df-convert:hover {\n",
              "      background-color: #434B5C;\n",
              "      box-shadow: 0px 1px 3px 1px rgba(0, 0, 0, 0.15);\n",
              "      filter: drop-shadow(0px 1px 2px rgba(0, 0, 0, 0.3));\n",
              "      fill: #FFFFFF;\n",
              "    }\n",
              "  </style>\n",
              "\n",
              "    <script>\n",
              "      const buttonEl =\n",
              "        document.querySelector('#df-67ba9173-51b0-41d7-bcc0-d6695163d207 button.colab-df-convert');\n",
              "      buttonEl.style.display =\n",
              "        google.colab.kernel.accessAllowed ? 'block' : 'none';\n",
              "\n",
              "      async function convertToInteractive(key) {\n",
              "        const element = document.querySelector('#df-67ba9173-51b0-41d7-bcc0-d6695163d207');\n",
              "        const dataTable =\n",
              "          await google.colab.kernel.invokeFunction('convertToInteractive',\n",
              "                                                    [key], {});\n",
              "        if (!dataTable) return;\n",
              "\n",
              "        const docLinkHtml = 'Like what you see? Visit the ' +\n",
              "          '<a target=\"_blank\" href=https://colab.research.google.com/notebooks/data_table.ipynb>data table notebook</a>'\n",
              "          + ' to learn more about interactive tables.';\n",
              "        element.innerHTML = '';\n",
              "        dataTable['output_type'] = 'display_data';\n",
              "        await google.colab.output.renderOutput(dataTable, element);\n",
              "        const docLink = document.createElement('div');\n",
              "        docLink.innerHTML = docLinkHtml;\n",
              "        element.appendChild(docLink);\n",
              "      }\n",
              "    </script>\n",
              "  </div>\n",
              "\n",
              "\n",
              "<div id=\"df-c58a365c-4ce8-4cfe-9b42-5df14b33a893\">\n",
              "  <button class=\"colab-df-quickchart\" onclick=\"quickchart('df-c58a365c-4ce8-4cfe-9b42-5df14b33a893')\"\n",
              "            title=\"Suggest charts\"\n",
              "            style=\"display:none;\">\n",
              "\n",
              "<svg xmlns=\"http://www.w3.org/2000/svg\" height=\"24px\"viewBox=\"0 0 24 24\"\n",
              "     width=\"24px\">\n",
              "    <g>\n",
              "        <path d=\"M19 3H5c-1.1 0-2 .9-2 2v14c0 1.1.9 2 2 2h14c1.1 0 2-.9 2-2V5c0-1.1-.9-2-2-2zM9 17H7v-7h2v7zm4 0h-2V7h2v10zm4 0h-2v-4h2v4z\"/>\n",
              "    </g>\n",
              "</svg>\n",
              "  </button>\n",
              "\n",
              "<style>\n",
              "  .colab-df-quickchart {\n",
              "      --bg-color: #E8F0FE;\n",
              "      --fill-color: #1967D2;\n",
              "      --hover-bg-color: #E2EBFA;\n",
              "      --hover-fill-color: #174EA6;\n",
              "      --disabled-fill-color: #AAA;\n",
              "      --disabled-bg-color: #DDD;\n",
              "  }\n",
              "\n",
              "  [theme=dark] .colab-df-quickchart {\n",
              "      --bg-color: #3B4455;\n",
              "      --fill-color: #D2E3FC;\n",
              "      --hover-bg-color: #434B5C;\n",
              "      --hover-fill-color: #FFFFFF;\n",
              "      --disabled-bg-color: #3B4455;\n",
              "      --disabled-fill-color: #666;\n",
              "  }\n",
              "\n",
              "  .colab-df-quickchart {\n",
              "    background-color: var(--bg-color);\n",
              "    border: none;\n",
              "    border-radius: 50%;\n",
              "    cursor: pointer;\n",
              "    display: none;\n",
              "    fill: var(--fill-color);\n",
              "    height: 32px;\n",
              "    padding: 0;\n",
              "    width: 32px;\n",
              "  }\n",
              "\n",
              "  .colab-df-quickchart:hover {\n",
              "    background-color: var(--hover-bg-color);\n",
              "    box-shadow: 0 1px 2px rgba(60, 64, 67, 0.3), 0 1px 3px 1px rgba(60, 64, 67, 0.15);\n",
              "    fill: var(--button-hover-fill-color);\n",
              "  }\n",
              "\n",
              "  .colab-df-quickchart-complete:disabled,\n",
              "  .colab-df-quickchart-complete:disabled:hover {\n",
              "    background-color: var(--disabled-bg-color);\n",
              "    fill: var(--disabled-fill-color);\n",
              "    box-shadow: none;\n",
              "  }\n",
              "\n",
              "  .colab-df-spinner {\n",
              "    border: 2px solid var(--fill-color);\n",
              "    border-color: transparent;\n",
              "    border-bottom-color: var(--fill-color);\n",
              "    animation:\n",
              "      spin 1s steps(1) infinite;\n",
              "  }\n",
              "\n",
              "  @keyframes spin {\n",
              "    0% {\n",
              "      border-color: transparent;\n",
              "      border-bottom-color: var(--fill-color);\n",
              "      border-left-color: var(--fill-color);\n",
              "    }\n",
              "    20% {\n",
              "      border-color: transparent;\n",
              "      border-left-color: var(--fill-color);\n",
              "      border-top-color: var(--fill-color);\n",
              "    }\n",
              "    30% {\n",
              "      border-color: transparent;\n",
              "      border-left-color: var(--fill-color);\n",
              "      border-top-color: var(--fill-color);\n",
              "      border-right-color: var(--fill-color);\n",
              "    }\n",
              "    40% {\n",
              "      border-color: transparent;\n",
              "      border-right-color: var(--fill-color);\n",
              "      border-top-color: var(--fill-color);\n",
              "    }\n",
              "    60% {\n",
              "      border-color: transparent;\n",
              "      border-right-color: var(--fill-color);\n",
              "    }\n",
              "    80% {\n",
              "      border-color: transparent;\n",
              "      border-right-color: var(--fill-color);\n",
              "      border-bottom-color: var(--fill-color);\n",
              "    }\n",
              "    90% {\n",
              "      border-color: transparent;\n",
              "      border-bottom-color: var(--fill-color);\n",
              "    }\n",
              "  }\n",
              "</style>\n",
              "\n",
              "  <script>\n",
              "    async function quickchart(key) {\n",
              "      const quickchartButtonEl =\n",
              "        document.querySelector('#' + key + ' button');\n",
              "      quickchartButtonEl.disabled = true;  // To prevent multiple clicks.\n",
              "      quickchartButtonEl.classList.add('colab-df-spinner');\n",
              "      try {\n",
              "        const charts = await google.colab.kernel.invokeFunction(\n",
              "            'suggestCharts', [key], {});\n",
              "      } catch (error) {\n",
              "        console.error('Error during call to suggestCharts:', error);\n",
              "      }\n",
              "      quickchartButtonEl.classList.remove('colab-df-spinner');\n",
              "      quickchartButtonEl.classList.add('colab-df-quickchart-complete');\n",
              "    }\n",
              "    (() => {\n",
              "      let quickchartButtonEl =\n",
              "        document.querySelector('#df-c58a365c-4ce8-4cfe-9b42-5df14b33a893 button');\n",
              "      quickchartButtonEl.style.display =\n",
              "        google.colab.kernel.accessAllowed ? 'block' : 'none';\n",
              "    })();\n",
              "  </script>\n",
              "</div>\n",
              "\n",
              "    </div>\n",
              "  </div>\n"
            ],
            "text/plain": [
              "     City Ratings                   Distance  \\\n",
              "0  manali     3.9    2 km  from city center    \n",
              "1  manali     4.6    8 km  from city center    \n",
              "2  manali     4.6    4 km  from city center    \n",
              "3  manali     4.4    1 km  from city center    \n",
              "4  manali     4.4   16 km  from city center    \n",
              "\n",
              "                                   combined_features  \n",
              "0    capture the sceneries of old manali   on the...  \n",
              "1    engage in the adventures of solang valley   ...  \n",
              "2    jogini waterfall   jogini waterfall is locat...  \n",
              "3    hadimba temple   hadimba temple away from th...  \n",
              "4    rohtang pass   rohtang pass is the stretch w...  "
            ]
          },
          "execution_count": 77,
          "metadata": {},
          "output_type": "execute_result"
        }
      ],
      "source": [
        "# Install necessary libraries\n",
        "!pip install scikit-learn pandas\n",
        "\n",
        "import pandas as pd\n",
        "import numpy as np\n",
        "from sklearn.feature_extraction.text import TfidfVectorizer\n",
        "from sklearn.metrics.pairwise import linear_kernel\n",
        "import re\n",
        "import matplotlib.pyplot as plt\n",
        "\n",
        "# Load your dataset\n",
        "# Assuming the dataset is in a CSV file named 'dt.csv'\n",
        "data = pd.read_csv('/content/dt.csv')\n",
        "\n",
        "# Preprocess the data\n",
        "# Replace missing values with empty strings\n",
        "data.fillna('', inplace=True)\n",
        "\n",
        "# Handle missing values\n",
        "# Print the number of missing values per column\n",
        "missing_values = data.isnull().sum()\n",
        "print(\"\\nNumber of missing values per column:\")\n",
        "print(missing_values)\n",
        "\n",
        "# Fill missing values: Numerical columns with mean, categorical with mode\n",
        "for column in data.columns:\n",
        "    if data[column].dtype == np.number:\n",
        "        data[column].fillna(data[column].mean(), inplace=True)\n",
        "    else:\n",
        "        data[column].fillna(data[column].mode()[0], inplace=True)\n",
        "\n",
        "# Print the DataFrame after filling missing values\n",
        "print(\"\\nDataFrame after filling missing values:\")\n",
        "print(data)\n",
        "\n",
        "# Handle duplicate values\n",
        "# Print the number of duplicate rows\n",
        "duplicate_rows = data.duplicated().sum()\n",
        "print(\"\\nNumber of duplicate rows:\")\n",
        "print(duplicate_rows)\n",
        "\n",
        "# Remove duplicate rows\n",
        "data.drop_duplicates(inplace=True)\n",
        "\n",
        "# Print the DataFrame after removing duplicate rows\n",
        "print(\"\\nDataFrame after removing duplicate rows:\")\n",
        "print(data)\n",
        "\n",
        "# Text cleaning function\n",
        "def clean_text(text):\n",
        "    # Convert to lowercase\n",
        "    text = text.lower()\n",
        "    # Remove special characters, punctuation, and digits\n",
        "    text = re.sub(r'[^a-zA-Z\\s]', '', text)\n",
        "    return text\n",
        "\n",
        "# Apply text cleaning to relevant columns\n",
        "data['City'] = data['City'].apply(clean_text)\n",
        "data['Place'] = data['Place'].apply(clean_text)\n",
        "data['Place_desc'] = data['Place_desc'].apply(clean_text)\n",
        "\n",
        "# Feature engineering: Combine relevant features into one text feature\n",
        "data['combined_features'] =  data['Place'] + ' ' + data['Place_desc']\n",
        "\n",
        "data.head()\n",
        "\n",
        "new_df = data[[ 'City','Ratings','Distance','combined_features']]\n",
        "new_df.head()\n",
        "\n",
        "\n",
        "# TF-IDF Vectorization\n",
        "# tfidf_vectorizer = TfidfVectorizer()\n",
        "# tfidf_matrix = tfidf_vectorizer.fit_transform(data['combined_features'])\n",
        "\n",
        "# # Compute similarity matrix (cosine similarity)\n",
        "# cosine_sim = linear_kernel(tfidf_matrix, tfidf_matrix)\n",
        "\n",
        "# # Function to get top N recommendations for a given tour\n",
        "# def get_top_n_recommendations(tour_index, n=5):\n",
        "#     # Get similarity scores of all tours with the given tour\n",
        "#     sim_scores = list(enumerate(cosine_sim[tour_index]))\n",
        "\n",
        "#     # Sort tours based on similarity scores\n",
        "#     sim_scores = sorted(sim_scores, key=lambda x: x[1], reverse=True)\n",
        "\n",
        "#     # Get top N recommendations (excluding itself)\n",
        "#     top_n = sim_scores[1:n+1]\n",
        "\n",
        "#     return top_n\n",
        "\n",
        "# # Example usage\n",
        "# # Replace '2' with the index of the tour for which you want recommendations\n",
        "# tour_index = 2\n",
        "# top_recommendations = get_top_n_recommendations(tour_index)\n",
        "# for i, (index, score) in enumerate(top_recommendations, 1):\n",
        "#     print(f\"{i}. Tour Index: {index}, Similarity Score: {score}\")\n",
        "#     print(\"City Name:\", data.iloc[index]['City'])\n",
        "#     print(\"Place:\", data.iloc[index]['Place'])\n",
        "#     print(\"Rating:\", data.iloc[index]['Ratings'])\n",
        "#     print(\"Distance:\", data.iloc[index]['Distance'])\n",
        "#     print(\"City Description:\", data.iloc[index]['Place_desc'])\n",
        "#     print()\n",
        "\n",
        "# # Split data into training and test sets\n",
        "# def train_test_split(data, test_size=0.2):\n",
        "#     mask = np.random.rand(len(data)) < (1 - test_size)\n",
        "#     train = data[mask]\n",
        "#     test = data[~mask]\n",
        "#     return train, test\n",
        "\n",
        "# train_data, test_data = train_test_split(data)\n",
        "\n",
        "# # Build recommendation system on training data\n",
        "# tfidf_vectorizer = TfidfVectorizer()\n",
        "# tfidf_matrix_train = tfidf_vectorizer.fit_transform(train_data['combined_features'])\n",
        "# cosine_sim_train = linear_kernel(tfidf_matrix_train, tfidf_matrix_train)\n",
        "\n",
        "# # Evaluate recommendation system on test data\n",
        "# hit_count = 0\n",
        "# total_recommendations = 0\n",
        "\n",
        "# for index, user_row in test_data.iterrows():\n",
        "#     user_tour_index = index  # Index of the tour for the current user\n",
        "#     top_recommendations = get_top_n_recommendations(user_tour_index, n=5)\n",
        "#     recommended_tours = [tour[0] for tour in top_recommendations]  # Extract tour indexes from recommendations\n",
        "#     user_interactions = [user_row['City'], user_row['Place'], user_row['Place_desc']]  # User's actual interactions\n",
        "\n",
        "#     # Check if any of the recommended tours overlap with user's interactions\n",
        "#     for tour_index in recommended_tours:\n",
        "#         tour_data = data.iloc[tour_index]\n",
        "#         tour_features = [tour_data['City'], tour_data['Place'], tour_data['Place_desc']]\n",
        "#         if any(feature in tour_features for feature in user_interactions):\n",
        "#             hit_count += 1\n",
        "#         total_recommendations += 1\n",
        "\n",
        "# # Calculate hit rate\n",
        "# hit_rate = hit_count / total_recommendations\n",
        "# print(\"Hit Rate:\", hit_rate)\n",
        "\n",
        "# # Function to calculate hit rate\n",
        "# def calculate_hit_rate(test_data):\n",
        "#     hit_count = 0\n",
        "#     total_recommendations = 0\n",
        "\n",
        "#     for index, user_row in test_data.iterrows():\n",
        "#         user_tour_index = index  # Index of the tour for the current user\n",
        "#         top_recommendations = get_top_n_recommendations(user_tour_index, n=5)\n",
        "#         recommended_tours = [tour[0] for tour in top_recommendations]  # Extract tour indexes from recommendations\n",
        "#         user_interactions = [user_row['City'], user_row['Place'], user_row['Place_desc']]  # User's actual interactions\n",
        "\n",
        "#         # Check if any of the recommended tours overlap with user's interactions\n",
        "#         for tour_index in recommended_tours:\n",
        "#             tour_data = data.iloc[tour_index]\n",
        "#             tour_features = [tour_data['City'], tour_data['Place'], tour_data['Place_desc']]\n",
        "#             if any(feature in tour_features for feature in user_interactions):\n",
        "#                 hit_count += 1\n",
        "#             total_recommendations += 1\n",
        "\n",
        "#     # Calculate hit rate\n",
        "#     hit_rate = hit_count / total_recommendations\n",
        "#     return hit_rate\n",
        "\n",
        "# # Create a list of different test sizes\n",
        "# test_sizes = [0.1, 0.2, 0.3, 0.4, 0.5]\n",
        "\n",
        "# # Calculate hit rates for different test sizes\n",
        "# hit_rates = []\n",
        "# for test_size in test_sizes:\n",
        "#     train_data, test_data = train_test_split(data, test_size=test_size)\n",
        "#     hit_rate = calculate_hit_rate(test_data)\n",
        "#     hit_rates.append(hit_rate)\n",
        "\n",
        "# # Plot hit rate graph\n",
        "# plt.figure(figsize=(10, 6))\n",
        "# plt.plot(test_sizes, hit_rates, marker='o', linestyle='-')\n",
        "# plt.xlabel('Test Size')\n",
        "# plt.ylabel('Hit Rate')\n",
        "# plt.title('Hit Rate vs. Test Size')\n",
        "# plt.grid(True)\n",
        "# plt.show()\n"
      ]
    },
    {
      "cell_type": "code",
      "execution_count": 54,
      "metadata": {
        "colab": {
          "base_uri": "https://localhost:8080/",
          "height": 53
        },
        "id": "ZrmIDtWkzTV2",
        "outputId": "4352ba98-5fcd-4b54-a232-acb0e948afaa"
      },
      "outputs": [
        {
          "data": {
            "application/vnd.google.colaboratory.intrinsic+json": {
              "type": "string"
            },
            "text/plain": [
              "'  capture the sceneries of old manali   on the other side of the manalsu river is a part of manali time left behind with a sweet scent of an old world charm interspersed with guesthouses and an increasing presence of tourism and hints of the present that it brings along old manali is a tiny shift in the world and its rush one must experience while here '"
            ]
          },
          "execution_count": 54,
          "metadata": {},
          "output_type": "execute_result"
        }
      ],
      "source": [
        "new_df.iloc[0]['combined_features']"
      ]
    },
    {
      "cell_type": "code",
      "execution_count": 78,
      "metadata": {
        "colab": {
          "base_uri": "https://localhost:8080/",
          "height": 261
        },
        "id": "Gw4TqusphFBD",
        "outputId": "97f447bb-257d-4a6e-bf27-d71c4374e1ec"
      },
      "outputs": [
        {
          "name": "stderr",
          "output_type": "stream",
          "text": [
            "<ipython-input-78-a397112cd421>:2: SettingWithCopyWarning: \n",
            "A value is trying to be set on a copy of a slice from a DataFrame.\n",
            "Try using .loc[row_indexer,col_indexer] = value instead\n",
            "\n",
            "See the caveats in the documentation: https://pandas.pydata.org/pandas-docs/stable/user_guide/indexing.html#returning-a-view-versus-a-copy\n",
            "  new_df['combined_features'] = new_df['combined_features'].apply(lambda x:x.lower())\n",
            "<ipython-input-78-a397112cd421>:13: SettingWithCopyWarning: \n",
            "A value is trying to be set on a copy of a slice from a DataFrame.\n",
            "Try using .loc[row_indexer,col_indexer] = value instead\n",
            "\n",
            "See the caveats in the documentation: https://pandas.pydata.org/pandas-docs/stable/user_guide/indexing.html#returning-a-view-versus-a-copy\n",
            "  new_df['combined_features'] = new_df['combined_features'].apply(stems)\n"
          ]
        },
        {
          "data": {
            "application/vnd.google.colaboratory.intrinsic+json": {
              "type": "string"
            },
            "text/plain": [
              "'captur the sceneri of old manali on the other side of the manalsu river is a part of manali time left behind with a sweet scent of an old world charm interspers with guesthous and an increas presenc of tourism and hint of the present that it bring along old manali is a tini shift in the world and it rush one must experi while here'"
            ]
          },
          "execution_count": 78,
          "metadata": {},
          "output_type": "execute_result"
        }
      ],
      "source": [
        "# Converting to lower case\n",
        "new_df['combined_features'] = new_df['combined_features'].apply(lambda x:x.lower())\n",
        "import nltk\n",
        "from nltk.stem import PorterStemmer\n",
        "ps = PorterStemmer()\n",
        "def stems(text):\n",
        "    T = []\n",
        "\n",
        "    for i in text.split():\n",
        "        T.append(ps.stem(i))\n",
        "\n",
        "    return \" \".join(T)\n",
        "new_df['combined_features'] = new_df['combined_features'].apply(stems)\n",
        "new_df.iloc[0]['combined_features']"
      ]
    },
    {
      "cell_type": "code",
      "execution_count": 79,
      "metadata": {
        "id": "bB725Mf24wiN"
      },
      "outputs": [],
      "source": [
        "from sklearn.feature_extraction.text import CountVectorizer\n",
        "cv = CountVectorizer(max_features=5000,stop_words='english')"
      ]
    },
    {
      "cell_type": "code",
      "execution_count": 80,
      "metadata": {
        "id": "HvMS4u3642Ud"
      },
      "outputs": [],
      "source": [
        "vector = cv.fit_transform(new_df['combined_features']).toarray()"
      ]
    },
    {
      "cell_type": "code",
      "execution_count": 81,
      "metadata": {
        "colab": {
          "base_uri": "https://localhost:8080/"
        },
        "id": "hJgzPsMu48op",
        "outputId": "af345f99-17a3-4809-ccd5-77dc686595b9"
      },
      "outputs": [
        {
          "data": {
            "text/plain": [
              "array([0, 0, 0, ..., 0, 0, 0])"
            ]
          },
          "execution_count": 81,
          "metadata": {},
          "output_type": "execute_result"
        }
      ],
      "source": [
        "vector[0]\n",
        "\n"
      ]
    },
    {
      "cell_type": "code",
      "execution_count": 82,
      "metadata": {
        "colab": {
          "base_uri": "https://localhost:8080/"
        },
        "id": "e9bJ7NtT5E_L",
        "outputId": "f8b7111c-108c-4c18-d51f-aa2e1262acf7"
      },
      "outputs": [
        {
          "data": {
            "text/plain": [
              "(2989, 5000)"
            ]
          },
          "execution_count": 82,
          "metadata": {},
          "output_type": "execute_result"
        }
      ],
      "source": [
        "vector.shape"
      ]
    },
    {
      "cell_type": "code",
      "execution_count": 83,
      "metadata": {
        "colab": {
          "base_uri": "https://localhost:8080/"
        },
        "id": "v9cW1pRF5Uoz",
        "outputId": "b8a6b11b-cf9d-49de-84b6-c9479cf2c16b"
      },
      "outputs": [
        {
          "data": {
            "text/plain": [
              "5000"
            ]
          },
          "execution_count": 83,
          "metadata": {},
          "output_type": "execute_result"
        }
      ],
      "source": [
        "len(cv.get_feature_names_out())"
      ]
    },
    {
      "cell_type": "code",
      "execution_count": 84,
      "metadata": {
        "colab": {
          "base_uri": "https://localhost:8080/"
        },
        "id": "X3XXX1sX6w9G",
        "outputId": "05bfd612-21a9-4b15-d1df-7b48d6c62fe2"
      },
      "outputs": [
        {
          "data": {
            "text/plain": [
              "(2989, 2989)"
            ]
          },
          "execution_count": 84,
          "metadata": {},
          "output_type": "execute_result"
        }
      ],
      "source": [
        "from sklearn.metrics.pairwise import cosine_similarity\n",
        "similarity = cosine_similarity(vector)\n",
        "similarity.shape"
      ]
    },
    {
      "cell_type": "code",
      "execution_count": 85,
      "metadata": {
        "colab": {
          "base_uri": "https://localhost:8080/"
        },
        "id": "ynzAIhPK6yoM",
        "outputId": "7eae23f3-0a75-4979-a383-9ae5f2b9b47a"
      },
      "outputs": [
        {
          "data": {
            "text/plain": [
              "0"
            ]
          },
          "execution_count": 85,
          "metadata": {},
          "output_type": "execute_result"
        }
      ],
      "source": [
        "new_df[new_df['City'] == 'manali'].index[0]\n"
      ]
    },
    {
      "cell_type": "code",
      "execution_count": 86,
      "metadata": {
        "id": "LQwccFdR9Ol9"
      },
      "outputs": [],
      "source": [
        "# def recommend(place):\n",
        "#     index = new_df[new_df['City'] == place].index[0]\n",
        "#     distances = sorted(list(enumerate(similarity[index])),reverse=True,key = lambda x: x[1])\n",
        "#     for i in distances[1:6]:\n",
        "#         print(new_df.iloc[i[0]].City)\n",
        "\n",
        "\n",
        "def recommend(place):\n",
        "    # Check if the city exists in the DataFrame\n",
        "    if not new_df[new_df['City'] == place].empty:\n",
        "        # Find the index of the given city\n",
        "        index = new_df[new_df['City'] == place].index[0]\n",
        "\n",
        "        # Compute similarities\n",
        "        distances = sorted(list(enumerate(similarity[index])), reverse=True, key=lambda x: x[1])\n",
        "\n",
        "        # Print the top 5 recommendations (excluding the given place)\n",
        "        print(f\"Recommendations for '{place}':\")\n",
        "        count = 0\n",
        "        for i in distances:\n",
        "            if new_df.iloc[i[0]].City != place:\n",
        "                print(new_df.iloc[i[0]].City)\n",
        "                count += 1\n",
        "            if count == 5:\n",
        "                break\n",
        "    else:\n",
        "        print(f\"'{place}' not found in the DataFrame\")\n"
      ]
    },
    {
      "cell_type": "code",
      "execution_count": 87,
      "metadata": {
        "colab": {
          "base_uri": "https://localhost:8080/"
        },
        "id": "YejUVfr1916g",
        "outputId": "60dbcb98-0b82-4ebb-c7f5-b394cf2a08c7"
      },
      "outputs": [
        {
          "name": "stdout",
          "output_type": "stream",
          "text": [
            "Recommendations for 'srinagar':\n",
            "mcleodganj\n",
            "alleppey\n",
            "nainital\n",
            "dharamshala\n",
            "jammu\n"
          ]
        }
      ],
      "source": [
        "recommend('srinagar')"
      ]
    },
    {
      "cell_type": "code",
      "execution_count": 92,
      "metadata": {
        "id": "-I9nwi4T99aK"
      },
      "outputs": [],
      "source": [
        "import os\n",
        "import pickle\n",
        "\n",
        "# Specify the directory path\n",
        "directory_path = '/content/artifacts/'\n",
        "\n",
        "# Create the directory if it doesn't exist\n",
        "if not os.path.exists(directory_path):\n",
        "    os.makedirs(directory_path)\n",
        "\n",
        "# Save the DataFrame to a pickle file\n",
        "pickle.dump(new_df, open(directory_path + 'place_list.pkl', 'wb'))\n",
        "\n",
        "# Save the similarity matrix to a pickle file\n",
        "pickle.dump(similarity, open(directory_path + 'similarity.pkl', 'wb'))\n"
      ]
    }
  ],
  "metadata": {
    "colab": {
      "provenance": []
    },
    "kernelspec": {
      "display_name": "Python 3",
      "name": "python3"
    },
    "language_info": {
      "name": "python"
    }
  },
  "nbformat": 4,
  "nbformat_minor": 0
}
